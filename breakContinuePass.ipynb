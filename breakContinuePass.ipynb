{
 "cells": [
  {
   "cell_type": "markdown",
   "metadata": {},
   "source": [
    "# break\n",
    "~~~\n",
    "break문은 제어문 중 특정한 조건에 의해 제어문에서 빠져나가는 경우에 사용\n",
    "수행 중인 조건문이나 반복문에서 탈출\n",
    "~~~"
   ]
  },
  {
   "cell_type": "code",
   "execution_count": 6,
   "metadata": {},
   "outputs": [
    {
     "name": "stdout",
     "output_type": "stream",
     "text": [
      "('blue', 'red', 'black', 'green')\n",
      "<class 'tuple'>\n"
     ]
    }
   ],
   "source": [
    "colors='blue', 'red', 'black', 'green'\n",
    "print(colors)\n",
    "print(type(colors))"
   ]
  },
  {
   "cell_type": "code",
   "execution_count": 8,
   "metadata": {},
   "outputs": [
    {
     "name": "stdout",
     "output_type": "stream",
     "text": [
      "0 blue 루프 시작!\n",
      "0 blue 루프 종료!!\n",
      "1 red 루프 시작!\n",
      "1 red 루프 종료!!\n",
      "2 black 루프 시작!\n",
      "프로그램 종료!!\n"
     ]
    }
   ],
   "source": [
    "for x in range(len(colors)):\n",
    "    print(x, colors[x], '루프 시작!')\n",
    "    if colors[x]=='black':\n",
    "        break    #break이 등장하면 loop에서 완전하게 탈출하여 loop 이후의 코드로 이동\n",
    "    \n",
    "    print(x, colors[x], '루프 종료!!')\n",
    "\n",
    "print('프로그램 종료!!')"
   ]
  },
  {
   "cell_type": "markdown",
   "metadata": {},
   "source": [
    "# continue\n",
    "~~~\n",
    "continue문은 수행하고 있는 루프에서 빠져 나와서 다음 루프로 넘어가는 경우에 사용한다\n",
    "break문은 반복문을 더 이상 수행하지 않겠다는 의미이고, continue문은 계속 진행하겠다는 의미\n",
    "~~~"
   ]
  },
  {
   "cell_type": "code",
   "execution_count": 10,
   "metadata": {},
   "outputs": [
    {
     "name": "stdout",
     "output_type": "stream",
     "text": [
      "0 blue 루프 시작!\n",
      "0 blue 루프 종료!!\n",
      "1 red 루프 시작!\n",
      "1 red 루프 종료!!\n",
      "2 black 루프 시작!\n",
      "3 green 루프 시작!\n",
      "3 green 루프 종료!!\n",
      "프로그램 종료!!\n"
     ]
    }
   ],
   "source": [
    "for x in range(len(colors)):\n",
    "    print(x, colors[x], '루프 시작!')\n",
    "    if colors[x]=='black':\n",
    "        continue    #continue 수행 시 해당 루프만 종료되어 black이 등장한 이후에도 계속 루프 돈다\n",
    "    \n",
    "    print(x, colors[x], '루프 종료!!')\n",
    "\n",
    "print('프로그램 종료!!')"
   ]
  },
  {
   "cell_type": "markdown",
   "metadata": {},
   "source": [
    "# pass문\n",
    "~~~\n",
    "어떤 작업도 하지 않는 걍우에 사용\n",
    "~~~"
   ]
  },
  {
   "cell_type": "code",
   "execution_count": null,
   "metadata": {},
   "outputs": [],
   "source": []
  }
 ],
 "metadata": {
  "kernelspec": {
   "display_name": "Python 3",
   "language": "python",
   "name": "python3"
  },
  "language_info": {
   "codemirror_mode": {
    "name": "ipython",
    "version": 3
   },
   "file_extension": ".py",
   "mimetype": "text/x-python",
   "name": "python",
   "nbconvert_exporter": "python",
   "pygments_lexer": "ipython3",
   "version": "3.7.6"
  }
 },
 "nbformat": 4,
 "nbformat_minor": 4
}
