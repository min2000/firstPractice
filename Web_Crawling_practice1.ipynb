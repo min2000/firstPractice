{
 "cells": [
  {
   "cell_type": "markdown",
   "metadata": {},
   "source": [
    "특정 URL에 접속 할 경우 지정하는 작업이 필요하다\n",
    "\n",
    "url = \"https://openapi.naver.com/v1/search/blog?query=\" + encText #라는 코드에서 뉴시 기사를 갖고 오고 싶은 경우에는 \n",
    "\"https://openapi.naver.com/v1/search/news?query=\"   #라고 작성 가능\n",
    "\n",
    "request library는 naver server에다가 팔요한 내용을 요청함\n",
    "접속 url정보가 필요 \n",
    "\n",
    "request를 해도 본문 내용을 다 갖고오지 못하므로 따로 본문 기사 접속해서 갖고 옴 (오픈 API를 통해서 주소만 갖고옴)\n",
    "\n",
    "json: java script of notation의 약자 임, dictionary 형태로 정보 저장"
   ]
  },
  {
   "cell_type": "code",
   "execution_count": 11,
   "metadata": {},
   "outputs": [
    {
     "name": "stdout",
     "output_type": "stream",
     "text": [
      "{\n",
      "\"lastBuildDate\": \"Sat, 25 Jul 2020 02:30:01 +0900\",\n",
      "\"total\": 8222,\n",
      "\"start\": 1,\n",
      "\"display\": 10,\n",
      "\"items\": [\n",
      "{\n",
      "\"title\": \"상수부터 멀티라인 람다까지··· '<b>파이썬</b>'에 추가됐으면 하는 기능 4가지 \",\n",
      "\"originallink\": \"http://www.ciokorea.com/news/158791\",\n",
      "\"link\": \"http://www.ciokorea.com/news/158791\",\n",
      "\"description\": \"‘<b>파이썬</b>(Python)’에 어떤 기능이 추가되길 원하는가? 여기서는 <b>파이썬</b>에 추가됐으면 하는 기능 4가지를 살펴본다. 물론 가능성 있지만 단정하긴 어렵다. ‘<b>파이썬</b>’은 끊임없이 발전하고 있는 언어다. <b>파이썬</b>... \",\n",
      "\"pubDate\": \"Fri, 24 Jul 2020 19:10:00 +0900\"\n",
      "\n",
      "},\n",
      "{\n",
      "\"title\": \"한빛드론, '로보마스터 S1' 활용 AI 코딩 교육 선도\",\n",
      "\"originallink\": \"http://www.gameshot.net/common/con_view.php?code=GA5f1a6c159ede1\",\n",
      "\"link\": \"http://www.gameshot.net/common/con_view.php?code=GA5f1a6c159ede1\",\n",
      "\"description\": \"이 제품은 사용자에게 하드웨어 조립, 로봇 조작 학습, <b>파이썬</b> 또는 스크래치 언어로 프로그래밍, 멀티 플레이어 배틀 모드를 포함한 다양한 모드를 통한 재미와 학습을 모두 잡을 수 있는 경험을 제공한다. 교재는... \",\n",
      "\"pubDate\": \"Fri, 24 Jul 2020 14:30:00 +0900\"\n",
      "\n",
      "},\n",
      "{\n",
      "\"title\": \"한빛드론, 로보마스터 S1 활용한 인공지능 코딩 교재 보급\",\n",
      "\"originallink\": \"http://game.mk.co.kr/view.php?year=2020&no=759025\",\n",
      "\"link\": \"https://news.naver.com/main/read.nhn?mode=LSD&mid=sec&sid1=101&oid=009&aid=0004621849\",\n",
      "\"description\": \"사용자에게 하드웨어 조립, 로봇 조작 학습, <b>파이썬</b> 또는 스크래치 언어를 사용한 프로그래밍, 멀티 플레이어 배틀 모드 등의 경험을 제공한다. 한빛드론은 교재를 통해 구매자가 로보마스터 S1을 좀 더 손쉽게 인공지능... \",\n",
      "\"pubDate\": \"Fri, 24 Jul 2020 14:12:00 +0900\"\n",
      "\n",
      "},\n",
      "{\n",
      "\"title\": \"aSSIST 경영대학원, AI∙빅데이터 전공과정 MBA 업그레이드\",\n",
      "\"originallink\": \"http://www.epnc.co.kr/news/articleView.html?idxno=100613\",\n",
      "\"link\": \"http://www.epnc.co.kr/news/articleView.html?idxno=100613\",\n",
      "\"description\": \"R, <b>파이썬</b> 등으로 구성되어 있다. 또한 스위스 프랭클린대(FUS)와의 복수학위를 원할 경우 FUS 필수 경영학... 주요 교수진으로는 aSSIST 경영대학원 김진호 교수(주임교수), 이래중 교수(<b>파이썬</b>), 윤석용 교수(빅데이터... \",\n",
      "\"pubDate\": \"Fri, 24 Jul 2020 14:10:00 +0900\"\n",
      "\n",
      "},\n",
      "{\n",
      "\"title\": \"한빛드론, '로보마스터 S1' 활용 AI 코딩 교육 선도\",\n",
      "\"originallink\": \"http://www.pressm.kr/news/articleView.html?idxno=31648\",\n",
      "\"link\": \"http://www.pressm.kr/news/articleView.html?idxno=31648\",\n",
      "\"description\": \"이 제품은 사용자에게 하드웨어 조립, 로봇 조작 학습, <b>파이썬</b> 또는 스크래치 언어로 프로그래밍, 멀티 플레이어 배틀 모드를 포함한 다양한 모드를 통한 재미와 학습을 모두 잡을 수 있는 경험을 제공한다. 교재는... \",\n",
      "\"pubDate\": \"Fri, 24 Jul 2020 10:52:00 +0900\"\n",
      "\n",
      "},\n",
      "{\n",
      "\"title\": \"창신대, 사물인터넷·로봇운영자과정 1기 교육\",\n",
      "\"originallink\": \"http://www.knnews.co.kr/news/articleView.php?idxno=1330289\",\n",
      "\"link\": \"http://www.knnews.co.kr/news/articleView.php?idxno=1330289\",\n",
      "\"description\": \"창신대는 최종 선발된 20명의 교육생을 대상으로, 6주 동안 SW기초, IoT기본, 로봇프로그래밍(<b>파이썬</b> 프로그래밍 등), 취업특강 등 다양한 프로그램을 진행한다. 이번 교육으로 4차 산업혁명시대를 대비한 스마트산단... \",\n",
      "\"pubDate\": \"Fri, 24 Jul 2020 10:14:00 +0900\"\n",
      "\n",
      "},\n",
      "{\n",
      "\"title\": \"한빛드론, '로보마스터 S1' 활용 AI 코딩 교육 진행\",\n",
      "\"originallink\": \"http://gamefocus.co.kr/detail.php?number=107520\",\n",
      "\"link\": \"http://gamefocus.co.kr/detail.php?number=107520\",\n",
      "\"description\": \"이 제품은 사용자에게 하드웨어 조립, 로봇 조작 학습, <b>파이썬</b> 또는 스크래치 언어로 프로그래밍, 멀티 플레이어 배틀 모드를 포함한 다양한 모드를 통한 재미와 학습을 모두 잡을 수 있는 경험을 제공한다. 교재는... \",\n",
      "\"pubDate\": \"Fri, 24 Jul 2020 09:36:00 +0900\"\n",
      "\n",
      "},\n",
      "{\n",
      "\"title\": \"한빛드론, '로보마스터 S1' 활용 AI 코딩 교육\",\n",
      "\"originallink\": \"http://www.kpinews.co.kr/news/articleView.html?idxno=122176\",\n",
      "\"link\": \"http://www.kpinews.co.kr/news/articleView.html?idxno=122176\",\n",
      "\"description\": \"하드웨어 조립, 로봇 조작 학습, <b>파이썬</b> 또는 스크래치 언어로 프로그래밍, 멀티 플레이어 배틀 모드를 포함한 다양한 모드를 제공한다. 교재는 구매자가 로보마스터 S1을 좀 더 손쉽게 인공지능 코딩 교육에 활용할 수... \",\n",
      "\"pubDate\": \"Fri, 24 Jul 2020 09:30:00 +0900\"\n",
      "\n",
      "},\n",
      "{\n",
      "\"title\": \"한빛드론, '로보마스터 S1' 활용 AI 코딩 교육 지원\",\n",
      "\"originallink\": \"http://www.lawissue.co.kr/view.php?ud=202007240836278635204ead0791_12\",\n",
      "\"link\": \"http://www.lawissue.co.kr/view.php?ud=202007240836278635204ead0791_12\",\n",
      "\"description\": \"이 제품은 사용자에게 하드웨어 조립, 로봇 조작 학습, <b>파이썬</b> 또는 스크래치 언어로 프로그래밍, 멀티 플레이어 배틀 모드를 포함한 다양한 모드를 통한 재미와 학습을 모두 잡을 수 있는 경험을 제공한다. 교재는... \",\n",
      "\"pubDate\": \"Fri, 24 Jul 2020 08:38:00 +0900\"\n",
      "\n",
      "},\n",
      "{\n",
      "\"title\": \"컴퓨터학원 코리아IT아카데미, 7월 정보보호의 날 기념 ‘원장님이 시원하게 ...\",\n",
      "\"originallink\": \"http://edu.donga.com/?p=article&ps=view&at_no=20200723153447762292\",\n",
      "\"link\": \"http://edu.donga.com/?p=article&ps=view&at_no=20200723153447762292\",\n",
      "\"description\": \"C#, <b>파이썬</b>학원강좌(Python), C언어기초, 코딩교육) 등이 있다. 이와 함께 △시스템(윈도우, 리눅스자격증) △데이터베이스, 빅데이터학원 사이언스(머신러닝, 딥러닝) △기타 자격증(CCNA자격증, CCNP자격증, CCIE, LPIC, MCSE... \",\n",
      "\"pubDate\": \"Thu, 23 Jul 2020 15:36:00 +0900\"\n",
      "\n",
      "}\n",
      "]\n",
      "}\n",
      "\n"
     ]
    }
   ],
   "source": [
    "# 네이버 검색 API예제는 블로그를 비롯 전문자료까지 호출방법이 동일하므로 blog검색만 대표로 예제를 올렸습니다.\n",
    "# 네이버 검색 Open API 예제 - 블로그 검색\n",
    "import os\n",
    "import sys\n",
    "import urllib.request\n",
    "import requests\n",
    "\n",
    "news_data=[]  #list len =1임 따라서 [0]에 모든 내용이 있다\n",
    "\n",
    "client_id = \" K7HYwHGIpVg07HjOkmZ1\"\n",
    "client_secret = \"X4r4GsjtTE\"\n",
    "encText = urllib.parse.quote(\"파이썬\")   #검색하고 싶은 단어\n",
    "url = \"https://openapi.naver.com/v1/search/news?query=\" + encText # json 결과, url에다가 파이썬이라는 단어를 붙임\n",
    "# url = \"https://openapi.naver.com/v1/search/blog.xml?query=\" + encText # xml 결과\n",
    "\n",
    "#request는 네이버 서버에다 필요한 내용을 요청하는 작업\n",
    "#접속 url 위치와 정보를 주어야 함: key를 request의 header 정보로 준다\n",
    "request = urllib.request.Request(url)\n",
    "request.add_header(\"X-Naver-Client-Id\",client_id)\n",
    "request.add_header(\"X-Naver-Client-Secret\",client_secret)\n",
    "response = urllib.request.urlopen(request)   #연결 된 url열어주는 역할\n",
    "rescode = response.getcode()   #연결이 잘 안되거나 오류가 발생할 때 response code로 전달, 홈페이지에 에러 코드 전달 받기\n",
    "\n",
    "\n",
    "if(rescode==200):\n",
    "    response_body = response.read()\n",
    "    print(response_body.decode('utf-8'))\n",
    "    \n",
    " #  result=requests.get(response.geturl(),\n",
    "  #                   headers={\"X-Naver-Clinet-Id\":client_id,\n",
    "   #                           \"X-Naver-Clinet-Secret\":client_secret}\n",
    "    #                   )\n",
    "  # news_data.append(result.json())\n",
    "    \n",
    "    \n",
    "else:\n",
    "    print(\"Error Code:\" + rescode)"
   ]
  },
  {
   "cell_type": "code",
   "execution_count": 7,
   "metadata": {},
   "outputs": [
    {
     "data": {
      "text/plain": [
       "0"
      ]
     },
     "execution_count": 7,
     "metadata": {},
     "output_type": "execute_result"
    }
   ],
   "source": [
    "len(news_data)"
   ]
  },
  {
   "cell_type": "code",
   "execution_count": 3,
   "metadata": {},
   "outputs": [
    {
     "ename": "IndexError",
     "evalue": "list index out of range",
     "output_type": "error",
     "traceback": [
      "\u001b[1;31m---------------------------------------------------------------------------\u001b[0m",
      "\u001b[1;31mIndexError\u001b[0m                                Traceback (most recent call last)",
      "\u001b[1;32m<ipython-input-3-40a972f46b69>\u001b[0m in \u001b[0;36m<module>\u001b[1;34m\u001b[0m\n\u001b[1;32m----> 1\u001b[1;33m \u001b[0mnews_data\u001b[0m\u001b[1;33m[\u001b[0m\u001b[1;36m0\u001b[0m\u001b[1;33m]\u001b[0m\u001b[1;33m[\u001b[0m\u001b[1;34m'items'\u001b[0m\u001b[1;33m]\u001b[0m\u001b[1;33m\u001b[0m\u001b[1;33m\u001b[0m\u001b[0m\n\u001b[0m",
      "\u001b[1;31mIndexError\u001b[0m: list index out of range"
     ]
    }
   ],
   "source": [
    "news_data[0]['items']"
   ]
  },
  {
   "cell_type": "markdown",
   "metadata": {},
   "source": [
    "# 네이버 OPEN API를 통해 가져온 데이터 확인하기"
   ]
  },
  {
   "cell_type": "code",
   "execution_count": 15,
   "metadata": {},
   "outputs": [
    {
     "ename": "IndexError",
     "evalue": "list index out of range",
     "output_type": "error",
     "traceback": [
      "\u001b[1;31m---------------------------------------------------------------------------\u001b[0m",
      "\u001b[1;31mIndexError\u001b[0m                                Traceback (most recent call last)",
      "\u001b[1;32m<ipython-input-15-afb4d0e43303>\u001b[0m in \u001b[0;36m<module>\u001b[1;34m\u001b[0m\n\u001b[1;32m----> 1\u001b[1;33m \u001b[0mnews_data\u001b[0m\u001b[1;33m[\u001b[0m\u001b[1;36m0\u001b[0m\u001b[1;33m]\u001b[0m\u001b[1;33m[\u001b[0m\u001b[1;34m'items'\u001b[0m\u001b[1;33m]\u001b[0m\u001b[1;33m[\u001b[0m\u001b[1;36m0\u001b[0m\u001b[1;33m]\u001b[0m\u001b[1;33m[\u001b[0m\u001b[1;34m'link'\u001b[0m\u001b[1;33m]\u001b[0m\u001b[1;33m\u001b[0m\u001b[1;33m\u001b[0m\u001b[0m\n\u001b[0m",
      "\u001b[1;31mIndexError\u001b[0m: list index out of range"
     ]
    }
   ],
   "source": [
    "print(news_data[0]['items'][0]['link'])   #jupyter notebook에서 print함수를 사용하면 url을 바로 클릭으로 이동 가능"
   ]
  },
  {
   "cell_type": "markdown",
   "metadata": {},
   "source": [
    "# 가져온 URL 네이버 뉴스인지 확인하기"
   ]
  },
  {
   "cell_type": "code",
   "execution_count": null,
   "metadata": {},
   "outputs": [],
   "source": [
    "page_news_link=[]\n",
    "\n",
    "for item in news_data[0]['items']:"
   ]
  }
 ],
 "metadata": {
  "kernelspec": {
   "display_name": "Python 3",
   "language": "python",
   "name": "python3"
  },
  "language_info": {
   "codemirror_mode": {
    "name": "ipython",
    "version": 3
   },
   "file_extension": ".py",
   "mimetype": "text/x-python",
   "name": "python",
   "nbconvert_exporter": "python",
   "pygments_lexer": "ipython3",
   "version": "3.7.6"
  }
 },
 "nbformat": 4,
 "nbformat_minor": 4
}
