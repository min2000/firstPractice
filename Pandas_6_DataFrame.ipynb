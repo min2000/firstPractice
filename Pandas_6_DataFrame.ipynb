{
 "cells": [
  {
   "cell_type": "markdown",
   "metadata": {},
   "source": [
    "# Data Frame 데이터 살펴보기"
   ]
  },
  {
   "cell_type": "markdown",
   "metadata": {},
   "source": [
    "**Data Frame**\n",
    "~~~\n",
    "Series가 1차원이라면 Data Frame은 2차원으로 확대된 버전\n",
    "Excel spreadsheet이라고 생각하면 이해가 쉬움\n",
    "2차원이기 때문에 인덱스가 row, column로 구성됨\n",
    "     row는 각 개별 데이터를, column은 개별 속성을 의미\n",
    "Data Analysis, Machine Learning에서 data 변형을 위해 가장 많이 사용\n",
    "~~~"
   ]
  },
  {
   "cell_type": "code",
   "execution_count": 1,
   "metadata": {},
   "outputs": [],
   "source": [
    "import pandas as pd"
   ]
  },
  {
   "cell_type": "code",
   "execution_count": 4,
   "metadata": {},
   "outputs": [],
   "source": [
    "train_data=pd.read_csv('https://storage.googleapis.com/kagglesdsdata/datasets%2F4538%2F7213%2FETFs%2Facim.us.txt?GoogleAccessId=gcp-kaggle-com@kaggle-161607.iam.gserviceaccount.com&Expires=1594647728&Signature=lFmeWp48YnNV2GyhC0CHblaB%2FU7O1KC3HhLSNKWc1ZSfU45%2F21oD8PXDDVJ%2BmPZ92H1B7NqZ75r6QJtFl1ULj9UKAQl6%2BArz%2B%2F73o6rADXQpate3OTeN9L8SQHGFU3C6Y6cJ6a2yH1NFRWCtxU6DArlbDjAsE93iR75nsIJv9HHqoAnwhr3RpLhaQHFcyXuGZ8JYq%2FwIYvYESp%2BiaOeFLjFoOUpvQ43FycRyDBsQbdpm8qM8W20%2Fk0Oqax9d7RSj0GyYUI8FWDaTiUjjJllZSrUZG1fA5GeqO2w96BzindI26ALkulQWdQgQ6gXBY8n431gJmCNVM6xSo9vcDPUYhw%3D%3D')"
   ]
  },
  {
   "cell_type": "markdown",
   "metadata": {},
   "source": [
    "**head, tail 함수**\n",
    "~~~\n",
    "데이터가 아닌, 일부(처음부터, 혹은 마지막부터 간단피 보기 위한 함수\n",
    "~~~"
   ]
  },
  {
   "cell_type": "code",
   "execution_count": 5,
   "metadata": {},
   "outputs": [
    {
     "data": {
      "text/html": [
       "<div>\n",
       "<style scoped>\n",
       "    .dataframe tbody tr th:only-of-type {\n",
       "        vertical-align: middle;\n",
       "    }\n",
       "\n",
       "    .dataframe tbody tr th {\n",
       "        vertical-align: top;\n",
       "    }\n",
       "\n",
       "    .dataframe thead th {\n",
       "        text-align: right;\n",
       "    }\n",
       "</style>\n",
       "<table border=\"1\" class=\"dataframe\">\n",
       "  <thead>\n",
       "    <tr style=\"text-align: right;\">\n",
       "      <th></th>\n",
       "      <th>Date</th>\n",
       "      <th>Open</th>\n",
       "      <th>High</th>\n",
       "      <th>Low</th>\n",
       "      <th>Close</th>\n",
       "      <th>Volume</th>\n",
       "      <th>OpenInt</th>\n",
       "    </tr>\n",
       "  </thead>\n",
       "  <tbody>\n",
       "    <tr>\n",
       "      <th>0</th>\n",
       "      <td>2012-03-06</td>\n",
       "      <td>43.011</td>\n",
       "      <td>43.011</td>\n",
       "      <td>43.011</td>\n",
       "      <td>43.011</td>\n",
       "      <td>509</td>\n",
       "      <td>0</td>\n",
       "    </tr>\n",
       "    <tr>\n",
       "      <th>1</th>\n",
       "      <td>2012-03-07</td>\n",
       "      <td>43.162</td>\n",
       "      <td>43.162</td>\n",
       "      <td>43.162</td>\n",
       "      <td>43.162</td>\n",
       "      <td>113</td>\n",
       "      <td>0</td>\n",
       "    </tr>\n",
       "    <tr>\n",
       "      <th>2</th>\n",
       "      <td>2012-03-08</td>\n",
       "      <td>43.956</td>\n",
       "      <td>43.956</td>\n",
       "      <td>43.956</td>\n",
       "      <td>43.956</td>\n",
       "      <td>227</td>\n",
       "      <td>0</td>\n",
       "    </tr>\n",
       "    <tr>\n",
       "      <th>3</th>\n",
       "      <td>2012-03-12</td>\n",
       "      <td>43.885</td>\n",
       "      <td>43.885</td>\n",
       "      <td>43.885</td>\n",
       "      <td>43.885</td>\n",
       "      <td>1248</td>\n",
       "      <td>0</td>\n",
       "    </tr>\n",
       "    <tr>\n",
       "      <th>4</th>\n",
       "      <td>2012-03-13</td>\n",
       "      <td>45.880</td>\n",
       "      <td>45.880</td>\n",
       "      <td>44.555</td>\n",
       "      <td>44.555</td>\n",
       "      <td>227</td>\n",
       "      <td>0</td>\n",
       "    </tr>\n",
       "  </tbody>\n",
       "</table>\n",
       "</div>"
      ],
      "text/plain": [
       "         Date    Open    High     Low   Close  Volume  OpenInt\n",
       "0  2012-03-06  43.011  43.011  43.011  43.011     509        0\n",
       "1  2012-03-07  43.162  43.162  43.162  43.162     113        0\n",
       "2  2012-03-08  43.956  43.956  43.956  43.956     227        0\n",
       "3  2012-03-12  43.885  43.885  43.885  43.885    1248        0\n",
       "4  2012-03-13  45.880  45.880  44.555  44.555     227        0"
      ]
     },
     "execution_count": 5,
     "metadata": {},
     "output_type": "execute_result"
    }
   ],
   "source": [
    "train_data.head()  "
   ]
  },
  {
   "cell_type": "code",
   "execution_count": 6,
   "metadata": {},
   "outputs": [
    {
     "data": {
      "text/html": [
       "<div>\n",
       "<style scoped>\n",
       "    .dataframe tbody tr th:only-of-type {\n",
       "        vertical-align: middle;\n",
       "    }\n",
       "\n",
       "    .dataframe tbody tr th {\n",
       "        vertical-align: top;\n",
       "    }\n",
       "\n",
       "    .dataframe thead th {\n",
       "        text-align: right;\n",
       "    }\n",
       "</style>\n",
       "<table border=\"1\" class=\"dataframe\">\n",
       "  <thead>\n",
       "    <tr style=\"text-align: right;\">\n",
       "      <th></th>\n",
       "      <th>Date</th>\n",
       "      <th>Open</th>\n",
       "      <th>High</th>\n",
       "      <th>Low</th>\n",
       "      <th>Close</th>\n",
       "      <th>Volume</th>\n",
       "      <th>OpenInt</th>\n",
       "    </tr>\n",
       "  </thead>\n",
       "  <tbody>\n",
       "    <tr>\n",
       "      <th>0</th>\n",
       "      <td>2012-03-06</td>\n",
       "      <td>43.011</td>\n",
       "      <td>43.011</td>\n",
       "      <td>43.011</td>\n",
       "      <td>43.011</td>\n",
       "      <td>509</td>\n",
       "      <td>0</td>\n",
       "    </tr>\n",
       "    <tr>\n",
       "      <th>1</th>\n",
       "      <td>2012-03-07</td>\n",
       "      <td>43.162</td>\n",
       "      <td>43.162</td>\n",
       "      <td>43.162</td>\n",
       "      <td>43.162</td>\n",
       "      <td>113</td>\n",
       "      <td>0</td>\n",
       "    </tr>\n",
       "    <tr>\n",
       "      <th>2</th>\n",
       "      <td>2012-03-08</td>\n",
       "      <td>43.956</td>\n",
       "      <td>43.956</td>\n",
       "      <td>43.956</td>\n",
       "      <td>43.956</td>\n",
       "      <td>227</td>\n",
       "      <td>0</td>\n",
       "    </tr>\n",
       "  </tbody>\n",
       "</table>\n",
       "</div>"
      ],
      "text/plain": [
       "         Date    Open    High     Low   Close  Volume  OpenInt\n",
       "0  2012-03-06  43.011  43.011  43.011  43.011     509        0\n",
       "1  2012-03-07  43.162  43.162  43.162  43.162     113        0\n",
       "2  2012-03-08  43.956  43.956  43.956  43.956     227        0"
      ]
     },
     "execution_count": 6,
     "metadata": {},
     "output_type": "execute_result"
    }
   ],
   "source": [
    "train_data.head(n=3)   #n을 사용해서 개수를 조절 할 수 있다"
   ]
  },
  {
   "cell_type": "code",
   "execution_count": 7,
   "metadata": {},
   "outputs": [
    {
     "data": {
      "text/html": [
       "<div>\n",
       "<style scoped>\n",
       "    .dataframe tbody tr th:only-of-type {\n",
       "        vertical-align: middle;\n",
       "    }\n",
       "\n",
       "    .dataframe tbody tr th {\n",
       "        vertical-align: top;\n",
       "    }\n",
       "\n",
       "    .dataframe thead th {\n",
       "        text-align: right;\n",
       "    }\n",
       "</style>\n",
       "<table border=\"1\" class=\"dataframe\">\n",
       "  <thead>\n",
       "    <tr style=\"text-align: right;\">\n",
       "      <th></th>\n",
       "      <th>Date</th>\n",
       "      <th>Open</th>\n",
       "      <th>High</th>\n",
       "      <th>Low</th>\n",
       "      <th>Close</th>\n",
       "      <th>Volume</th>\n",
       "      <th>OpenInt</th>\n",
       "    </tr>\n",
       "  </thead>\n",
       "  <tbody>\n",
       "    <tr>\n",
       "      <th>1228</th>\n",
       "      <td>2017-11-07</td>\n",
       "      <td>77.5026</td>\n",
       "      <td>77.5026</td>\n",
       "      <td>77.200</td>\n",
       "      <td>77.352</td>\n",
       "      <td>12471</td>\n",
       "      <td>0</td>\n",
       "    </tr>\n",
       "    <tr>\n",
       "      <th>1229</th>\n",
       "      <td>2017-11-08</td>\n",
       "      <td>77.3700</td>\n",
       "      <td>77.7200</td>\n",
       "      <td>77.138</td>\n",
       "      <td>77.720</td>\n",
       "      <td>13482</td>\n",
       "      <td>0</td>\n",
       "    </tr>\n",
       "    <tr>\n",
       "      <th>1230</th>\n",
       "      <td>2017-11-09</td>\n",
       "      <td>77.1300</td>\n",
       "      <td>77.1310</td>\n",
       "      <td>76.606</td>\n",
       "      <td>77.110</td>\n",
       "      <td>4038</td>\n",
       "      <td>0</td>\n",
       "    </tr>\n",
       "    <tr>\n",
       "      <th>1231</th>\n",
       "      <td>2017-11-10</td>\n",
       "      <td>76.5500</td>\n",
       "      <td>76.9000</td>\n",
       "      <td>76.550</td>\n",
       "      <td>76.900</td>\n",
       "      <td>6361</td>\n",
       "      <td>0</td>\n",
       "    </tr>\n",
       "  </tbody>\n",
       "</table>\n",
       "</div>"
      ],
      "text/plain": [
       "            Date     Open     High     Low   Close  Volume  OpenInt\n",
       "1228  2017-11-07  77.5026  77.5026  77.200  77.352   12471        0\n",
       "1229  2017-11-08  77.3700  77.7200  77.138  77.720   13482        0\n",
       "1230  2017-11-09  77.1300  77.1310  76.606  77.110    4038        0\n",
       "1231  2017-11-10  76.5500  76.9000  76.550  76.900    6361        0"
      ]
     },
     "execution_count": 7,
     "metadata": {},
     "output_type": "execute_result"
    }
   ],
   "source": [
    "train_data.tail(n=4)"
   ]
  },
  {
   "cell_type": "markdown",
   "metadata": {},
   "source": [
    "**Dataframe 데이터 파악하기**\n",
    "~~~\n",
    "shape 속성 (row, column)\n",
    "describe 함수-숫자형 데이터 통계치 계산\n",
    "Info 함수-데이터 타입, 각 아이템의 개수 등 출력\n",
    "~~~"
   ]
  },
  {
   "cell_type": "code",
   "execution_count": 8,
   "metadata": {},
   "outputs": [
    {
     "data": {
      "text/plain": [
       "(1232, 7)"
      ]
     },
     "execution_count": 8,
     "metadata": {},
     "output_type": "execute_result"
    }
   ],
   "source": [
    "train_data.shape"
   ]
  },
  {
   "cell_type": "code",
   "execution_count": 9,
   "metadata": {},
   "outputs": [
    {
     "data": {
      "text/html": [
       "<div>\n",
       "<style scoped>\n",
       "    .dataframe tbody tr th:only-of-type {\n",
       "        vertical-align: middle;\n",
       "    }\n",
       "\n",
       "    .dataframe tbody tr th {\n",
       "        vertical-align: top;\n",
       "    }\n",
       "\n",
       "    .dataframe thead th {\n",
       "        text-align: right;\n",
       "    }\n",
       "</style>\n",
       "<table border=\"1\" class=\"dataframe\">\n",
       "  <thead>\n",
       "    <tr style=\"text-align: right;\">\n",
       "      <th></th>\n",
       "      <th>Open</th>\n",
       "      <th>High</th>\n",
       "      <th>Low</th>\n",
       "      <th>Close</th>\n",
       "      <th>Volume</th>\n",
       "      <th>OpenInt</th>\n",
       "    </tr>\n",
       "  </thead>\n",
       "  <tbody>\n",
       "    <tr>\n",
       "      <th>count</th>\n",
       "      <td>1232.000000</td>\n",
       "      <td>1232.000000</td>\n",
       "      <td>1232.000000</td>\n",
       "      <td>1232.000000</td>\n",
       "      <td>1232.000000</td>\n",
       "      <td>1232.0</td>\n",
       "    </tr>\n",
       "    <tr>\n",
       "      <th>mean</th>\n",
       "      <td>59.869573</td>\n",
       "      <td>60.146092</td>\n",
       "      <td>59.554480</td>\n",
       "      <td>59.849599</td>\n",
       "      <td>6142.261364</td>\n",
       "      <td>0.0</td>\n",
       "    </tr>\n",
       "    <tr>\n",
       "      <th>std</th>\n",
       "      <td>7.872922</td>\n",
       "      <td>7.923441</td>\n",
       "      <td>7.839604</td>\n",
       "      <td>7.880038</td>\n",
       "      <td>18757.944038</td>\n",
       "      <td>0.0</td>\n",
       "    </tr>\n",
       "    <tr>\n",
       "      <th>min</th>\n",
       "      <td>39.579000</td>\n",
       "      <td>39.579000</td>\n",
       "      <td>39.579000</td>\n",
       "      <td>39.579000</td>\n",
       "      <td>48.000000</td>\n",
       "      <td>0.0</td>\n",
       "    </tr>\n",
       "    <tr>\n",
       "      <th>25%</th>\n",
       "      <td>56.185000</td>\n",
       "      <td>56.745500</td>\n",
       "      <td>55.655000</td>\n",
       "      <td>56.191750</td>\n",
       "      <td>1045.000000</td>\n",
       "      <td>0.0</td>\n",
       "    </tr>\n",
       "    <tr>\n",
       "      <th>50%</th>\n",
       "      <td>60.725500</td>\n",
       "      <td>60.951000</td>\n",
       "      <td>60.365000</td>\n",
       "      <td>60.647000</td>\n",
       "      <td>2317.500000</td>\n",
       "      <td>0.0</td>\n",
       "    </tr>\n",
       "    <tr>\n",
       "      <th>75%</th>\n",
       "      <td>63.950000</td>\n",
       "      <td>64.323000</td>\n",
       "      <td>63.541500</td>\n",
       "      <td>63.950500</td>\n",
       "      <td>4871.750000</td>\n",
       "      <td>0.0</td>\n",
       "    </tr>\n",
       "    <tr>\n",
       "      <th>max</th>\n",
       "      <td>77.502600</td>\n",
       "      <td>77.720000</td>\n",
       "      <td>77.270000</td>\n",
       "      <td>77.720000</td>\n",
       "      <td>339261.000000</td>\n",
       "      <td>0.0</td>\n",
       "    </tr>\n",
       "  </tbody>\n",
       "</table>\n",
       "</div>"
      ],
      "text/plain": [
       "              Open         High          Low        Close         Volume  \\\n",
       "count  1232.000000  1232.000000  1232.000000  1232.000000    1232.000000   \n",
       "mean     59.869573    60.146092    59.554480    59.849599    6142.261364   \n",
       "std       7.872922     7.923441     7.839604     7.880038   18757.944038   \n",
       "min      39.579000    39.579000    39.579000    39.579000      48.000000   \n",
       "25%      56.185000    56.745500    55.655000    56.191750    1045.000000   \n",
       "50%      60.725500    60.951000    60.365000    60.647000    2317.500000   \n",
       "75%      63.950000    64.323000    63.541500    63.950500    4871.750000   \n",
       "max      77.502600    77.720000    77.270000    77.720000  339261.000000   \n",
       "\n",
       "       OpenInt  \n",
       "count   1232.0  \n",
       "mean       0.0  \n",
       "std        0.0  \n",
       "min        0.0  \n",
       "25%        0.0  \n",
       "50%        0.0  \n",
       "75%        0.0  \n",
       "max        0.0  "
      ]
     },
     "execution_count": 9,
     "metadata": {},
     "output_type": "execute_result"
    }
   ],
   "source": [
    "train_data.describe()    #기본적인 통계값 알려줌"
   ]
  },
  {
   "cell_type": "code",
   "execution_count": 11,
   "metadata": {},
   "outputs": [
    {
     "name": "stdout",
     "output_type": "stream",
     "text": [
      "<class 'pandas.core.frame.DataFrame'>\n",
      "RangeIndex: 1232 entries, 0 to 1231\n",
      "Data columns (total 7 columns):\n",
      " #   Column   Non-Null Count  Dtype  \n",
      "---  ------   --------------  -----  \n",
      " 0   Date     1232 non-null   object \n",
      " 1   Open     1232 non-null   float64\n",
      " 2   High     1232 non-null   float64\n",
      " 3   Low      1232 non-null   float64\n",
      " 4   Close    1232 non-null   float64\n",
      " 5   Volume   1232 non-null   int64  \n",
      " 6   OpenInt  1232 non-null   int64  \n",
      "dtypes: float64(4), int64(2), object(1)\n",
      "memory usage: 67.5+ KB\n"
     ]
    }
   ],
   "source": [
    "train_data.info()     #각각의 type과 개수를 알려줌"
   ]
  },
  {
   "cell_type": "code",
   "execution_count": null,
   "metadata": {},
   "outputs": [],
   "source": []
  },
  {
   "cell_type": "markdown",
   "metadata": {},
   "source": [
    "# DataFrame 구조 이해하기"
   ]
  },
  {
   "cell_type": "markdown",
   "metadata": {},
   "source": [
    "**인덱스 (index)**\n",
    "~~~\n",
    "index 속성: 절대로 중복 불가능\n",
    "각 아이뎀을 특정할 수 있는 고유의 값을 저장\n",
    "복잡한 데이터의 경우, 멀티 인덱스로 표현 가능\n",
    "~~~"
   ]
  },
  {
   "cell_type": "code",
   "execution_count": 14,
   "metadata": {},
   "outputs": [
    {
     "data": {
      "text/plain": [
       "RangeIndex(start=0, stop=1232, step=1)"
      ]
     },
     "execution_count": 14,
     "metadata": {},
     "output_type": "execute_result"
    }
   ],
   "source": [
    "train_data.index"
   ]
  },
  {
   "cell_type": "markdown",
   "metadata": {},
   "source": [
    "**컬럼(column)**\n",
    "~~~\n",
    "columns 속성\n",
    "각각의 특성을 나타냄\n",
    "복잡한 data의 경우, 멀티 컬럼으로 표현 가능\n",
    "~~~"
   ]
  },
  {
   "cell_type": "code",
   "execution_count": 13,
   "metadata": {},
   "outputs": [
    {
     "data": {
      "text/plain": [
       "Index(['Date', 'Open', 'High', 'Low', 'Close', 'Volume', 'OpenInt'], dtype='object')"
      ]
     },
     "execution_count": 13,
     "metadata": {},
     "output_type": "execute_result"
    }
   ],
   "source": [
    "train_data.columns"
   ]
  },
  {
   "cell_type": "code",
   "execution_count": null,
   "metadata": {},
   "outputs": [],
   "source": []
  }
 ],
 "metadata": {
  "kernelspec": {
   "display_name": "Python 3",
   "language": "python",
   "name": "python3"
  },
  "language_info": {
   "codemirror_mode": {
    "name": "ipython",
    "version": 3
   },
   "file_extension": ".py",
   "mimetype": "text/x-python",
   "name": "python",
   "nbconvert_exporter": "python",
   "pygments_lexer": "ipython3",
   "version": "3.7.6"
  }
 },
 "nbformat": 4,
 "nbformat_minor": 4
}
