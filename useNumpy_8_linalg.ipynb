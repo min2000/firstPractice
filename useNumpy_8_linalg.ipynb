{
 "cells": [
  {
   "cell_type": "markdown",
   "metadata": {},
   "source": [
    "# linalg 서브 모듈을 사용하여 선형대수 연산하기"
   ]
  },
  {
   "cell_type": "code",
   "execution_count": 1,
   "metadata": {},
   "outputs": [],
   "source": [
    "import numpy as np"
   ]
  },
  {
   "cell_type": "markdown",
   "metadata": {},
   "source": [
    "**np.linalg.inv**\n",
    "~~~\n",
    "역행렬을 구할 때 사용\n",
    "모든 차원의 값이 같아야 함\n",
    "~~~"
   ]
  },
  {
   "cell_type": "code",
   "execution_count": 4,
   "metadata": {},
   "outputs": [
    {
     "name": "stdout",
     "output_type": "stream",
     "text": [
      "[[0.88835941 0.36323275 0.1957852 ]\n",
      " [0.31301716 0.17256617 0.57186221]\n",
      " [0.47828632 0.70097698 0.18016112]]\n"
     ]
    },
    {
     "data": {
      "text/plain": [
       "array([[ 1.00000000e+00, -1.04060371e-17, -4.02158713e-17],\n",
       "       [-4.99927805e-17,  1.00000000e+00,  5.61182485e-18],\n",
       "       [-6.04010942e-17, -2.40158890e-17,  1.00000000e+00]])"
      ]
     },
     "execution_count": 4,
     "metadata": {},
     "output_type": "execute_result"
    }
   ],
   "source": [
    "x=np.random.rand(3,3)   #(3,3,3)은 가능하지만 (3,4)는 불가능 >>차원들끼리 값이 동일해야 한다\n",
    "print(x)\n",
    "\n",
    "x@np.linalg.inv(x)   #행렬끼리의 곱은 @를 사용한다\n",
    "                     #np.matmul(x,np.linalg.inv(x))도 동일한 결과가 나타남"
   ]
  },
  {
   "attachments": {},
   "cell_type": "markdown",
   "metadata": {},
   "source": [
    "**np.linalg.solve**\n",
    "~~~\n",
    "Ax=B 형태의 선형대수식 솔루션을 제공\n",
    "예제) 호랑이와 홍합의 합: 25 호랑이 다리와 홍합 다리의 합은 64\n",
    "     x+y=25\n",
    "     2x+4y=64\n",
    "~~~\n",
    ">선형대수 문제를 풀어주는 함수"
   ]
  },
  {
   "cell_type": "code",
   "execution_count": 5,
   "metadata": {},
   "outputs": [
    {
     "name": "stdout",
     "output_type": "stream",
     "text": [
      "[18.  7.]\n"
     ]
    },
    {
     "data": {
      "text/plain": [
       "True"
      ]
     },
     "execution_count": 5,
     "metadata": {},
     "output_type": "execute_result"
    }
   ],
   "source": [
    "A=np.array([[1,1],[2,4]])\n",
    "B=np.array([25,64])\n",
    "\n",
    "x=np.linalg.solve(A,B)\n",
    "print(x)\n",
    "\n",
    "np.allclose(A@x, B)"
   ]
  },
  {
   "cell_type": "code",
   "execution_count": null,
   "metadata": {},
   "outputs": [],
   "source": []
  }
 ],
 "metadata": {
  "kernelspec": {
   "display_name": "Python 3",
   "language": "python",
   "name": "python3"
  },
  "language_info": {
   "codemirror_mode": {
    "name": "ipython",
    "version": 3
   },
   "file_extension": ".py",
   "mimetype": "text/x-python",
   "name": "python",
   "nbconvert_exporter": "python",
   "pygments_lexer": "ipython3",
   "version": "3.7.6"
  }
 },
 "nbformat": 4,
 "nbformat_minor": 4
}
