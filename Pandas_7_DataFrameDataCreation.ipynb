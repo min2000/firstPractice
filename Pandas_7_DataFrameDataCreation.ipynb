{
 "cells": [
  {
   "cell_type": "markdown",
   "metadata": {},
   "source": [
    "# DataFrame 데이터 생성"
   ]
  },
  {
   "cell_type": "markdown",
   "metadata": {},
   "source": [
    "**DataFrame 생성하기**\n",
    "~~~\n",
    "일반적으로 분석을 위한 데이터는 다른 data source (database, 외부 파일)을 통해 dataframe을 생성\n",
    "여기서는 실습을 통해, dummy data를 생성하는 방법을 다룸\n",
    "~~~"
   ]
  },
  {
   "cell_type": "code",
   "execution_count": 1,
   "metadata": {},
   "outputs": [],
   "source": [
    "import pandas as pd"
   ]
  },
  {
   "cell_type": "markdown",
   "metadata": {},
   "source": [
    "**dictionart로 부터 생성하기**\n",
    "~~~\n",
    "dict의 key >>> column\n",
    "~~~\n",
    "~~~\n",
    "없는 값들은 NaN이라고 표현\n",
    "~~~"
   ]
  },
  {
   "cell_type": "code",
   "execution_count": 2,
   "metadata": {},
   "outputs": [
    {
     "data": {
      "text/html": [
       "<div>\n",
       "<style scoped>\n",
       "    .dataframe tbody tr th:only-of-type {\n",
       "        vertical-align: middle;\n",
       "    }\n",
       "\n",
       "    .dataframe tbody tr th {\n",
       "        vertical-align: top;\n",
       "    }\n",
       "\n",
       "    .dataframe thead th {\n",
       "        text-align: right;\n",
       "    }\n",
       "</style>\n",
       "<table border=\"1\" class=\"dataframe\">\n",
       "  <thead>\n",
       "    <tr style=\"text-align: right;\">\n",
       "      <th></th>\n",
       "      <th>a</th>\n",
       "      <th>b</th>\n",
       "      <th>c</th>\n",
       "    </tr>\n",
       "  </thead>\n",
       "  <tbody>\n",
       "    <tr>\n",
       "      <th>x</th>\n",
       "      <td>100</td>\n",
       "      <td>200</td>\n",
       "      <td>300</td>\n",
       "    </tr>\n",
       "    <tr>\n",
       "      <th>y</th>\n",
       "      <td>100</td>\n",
       "      <td>200</td>\n",
       "      <td>300</td>\n",
       "    </tr>\n",
       "    <tr>\n",
       "      <th>z</th>\n",
       "      <td>100</td>\n",
       "      <td>200</td>\n",
       "      <td>300</td>\n",
       "    </tr>\n",
       "  </tbody>\n",
       "</table>\n",
       "</div>"
      ],
      "text/plain": [
       "     a    b    c\n",
       "x  100  200  300\n",
       "y  100  200  300\n",
       "z  100  200  300"
      ]
     },
     "execution_count": 2,
     "metadata": {},
     "output_type": "execute_result"
    }
   ],
   "source": [
    "data={'a':100, 'b': 200, 'c': 300}\n",
    "pd.DataFrame(data, index=['x','y','z'])"
   ]
  },
  {
   "cell_type": "markdown",
   "metadata": {},
   "source": [
    "**Seroes로 부터 생성하기**\n",
    "~~~\n",
    "각 Series의 index >>> column\n",
    "~~~"
   ]
  },
  {
   "cell_type": "code",
   "execution_count": 4,
   "metadata": {},
   "outputs": [
    {
     "data": {
      "text/html": [
       "<div>\n",
       "<style scoped>\n",
       "    .dataframe tbody tr th:only-of-type {\n",
       "        vertical-align: middle;\n",
       "    }\n",
       "\n",
       "    .dataframe tbody tr th {\n",
       "        vertical-align: top;\n",
       "    }\n",
       "\n",
       "    .dataframe thead th {\n",
       "        text-align: right;\n",
       "    }\n",
       "</style>\n",
       "<table border=\"1\" class=\"dataframe\">\n",
       "  <thead>\n",
       "    <tr style=\"text-align: right;\">\n",
       "      <th></th>\n",
       "      <th>a</th>\n",
       "      <th>b</th>\n",
       "      <th>c</th>\n",
       "    </tr>\n",
       "  </thead>\n",
       "  <tbody>\n",
       "    <tr>\n",
       "      <th>0</th>\n",
       "      <td>100</td>\n",
       "      <td>200</td>\n",
       "      <td>300</td>\n",
       "    </tr>\n",
       "    <tr>\n",
       "      <th>1</th>\n",
       "      <td>101</td>\n",
       "      <td>201</td>\n",
       "      <td>301</td>\n",
       "    </tr>\n",
       "    <tr>\n",
       "      <th>2</th>\n",
       "      <td>110</td>\n",
       "      <td>210</td>\n",
       "      <td>310</td>\n",
       "    </tr>\n",
       "  </tbody>\n",
       "</table>\n",
       "</div>"
      ],
      "text/plain": [
       "     a    b    c\n",
       "0  100  200  300\n",
       "1  101  201  301\n",
       "2  110  210  310"
      ]
     },
     "execution_count": 4,
     "metadata": {},
     "output_type": "execute_result"
    }
   ],
   "source": [
    "a=pd.Series([100,200,300],['a','b','c'])\n",
    "b=pd.Series([101,201,301],['a','b','c'])\n",
    "c=pd.Series([110,210,310],['a','b','c'])\n",
    "\n",
    "pd.DataFrame([a,b,c])   #pd.DataFrame([a,b,c], index=[100,101,102])라고 index 별도 명시하면 index 바꾸기 가능"
   ]
  },
  {
   "cell_type": "code",
   "execution_count": null,
   "metadata": {},
   "outputs": [],
   "source": []
  },
  {
   "cell_type": "markdown",
   "metadata": {},
   "source": [
    "# 샘플 csv 데이터로 DataFrame 데이터 생성하기"
   ]
  },
  {
   "cell_type": "markdown",
   "metadata": {},
   "source": [
    "**csv 데이터로 부터 DataFrame을 생성하는 가장 일반적인 방법**\n",
    "~~~\n",
    "데이터 분석을 위해, dataframe을 생성하는 가장 일반적인 방법\n",
    "데이터 소스로부터 추출된 csv(comma separated values) 파일로부터 생성\n",
    "pandas.read_csv 함수 사용\n",
    "~~~"
   ]
  },
  {
   "cell_type": "code",
   "execution_count": 5,
   "metadata": {},
   "outputs": [],
   "source": [
    "import pandas as pd"
   ]
  },
  {
   "cell_type": "code",
   "execution_count": 6,
   "metadata": {},
   "outputs": [],
   "source": [
    "stock_data=pd.read_csv('https://storage.googleapis.com/kagglesdsdata/datasets%2F4538%2F7213%2FETFs%2Facim.us.txt?GoogleAccessId=gcp-kaggle-com@kaggle-161607.iam.gserviceaccount.com&Expires=1594647728&Signature=lFmeWp48YnNV2GyhC0CHblaB%2FU7O1KC3HhLSNKWc1ZSfU45%2F21oD8PXDDVJ%2BmPZ92H1B7NqZ75r6QJtFl1ULj9UKAQl6%2BArz%2B%2F73o6rADXQpate3OTeN9L8SQHGFU3C6Y6cJ6a2yH1NFRWCtxU6DArlbDjAsE93iR75nsIJv9HHqoAnwhr3RpLhaQHFcyXuGZ8JYq%2FwIYvYESp%2BiaOeFLjFoOUpvQ43FycRyDBsQbdpm8qM8W20%2Fk0Oqax9d7RSj0GyYUI8FWDaTiUjjJllZSrUZG1fA5GeqO2w96BzindI26ALkulQWdQgQ6gXBY8n431gJmCNVM6xSo9vcDPUYhw%3D%3D')"
   ]
  },
  {
   "cell_type": "code",
   "execution_count": 7,
   "metadata": {},
   "outputs": [
    {
     "data": {
      "text/html": [
       "<div>\n",
       "<style scoped>\n",
       "    .dataframe tbody tr th:only-of-type {\n",
       "        vertical-align: middle;\n",
       "    }\n",
       "\n",
       "    .dataframe tbody tr th {\n",
       "        vertical-align: top;\n",
       "    }\n",
       "\n",
       "    .dataframe thead th {\n",
       "        text-align: right;\n",
       "    }\n",
       "</style>\n",
       "<table border=\"1\" class=\"dataframe\">\n",
       "  <thead>\n",
       "    <tr style=\"text-align: right;\">\n",
       "      <th></th>\n",
       "      <th>Date</th>\n",
       "      <th>Open</th>\n",
       "      <th>High</th>\n",
       "      <th>Low</th>\n",
       "      <th>Close</th>\n",
       "      <th>Volume</th>\n",
       "      <th>OpenInt</th>\n",
       "    </tr>\n",
       "  </thead>\n",
       "  <tbody>\n",
       "    <tr>\n",
       "      <th>0</th>\n",
       "      <td>2012-03-06</td>\n",
       "      <td>43.011</td>\n",
       "      <td>43.011</td>\n",
       "      <td>43.011</td>\n",
       "      <td>43.011</td>\n",
       "      <td>509</td>\n",
       "      <td>0</td>\n",
       "    </tr>\n",
       "    <tr>\n",
       "      <th>1</th>\n",
       "      <td>2012-03-07</td>\n",
       "      <td>43.162</td>\n",
       "      <td>43.162</td>\n",
       "      <td>43.162</td>\n",
       "      <td>43.162</td>\n",
       "      <td>113</td>\n",
       "      <td>0</td>\n",
       "    </tr>\n",
       "    <tr>\n",
       "      <th>2</th>\n",
       "      <td>2012-03-08</td>\n",
       "      <td>43.956</td>\n",
       "      <td>43.956</td>\n",
       "      <td>43.956</td>\n",
       "      <td>43.956</td>\n",
       "      <td>227</td>\n",
       "      <td>0</td>\n",
       "    </tr>\n",
       "    <tr>\n",
       "      <th>3</th>\n",
       "      <td>2012-03-12</td>\n",
       "      <td>43.885</td>\n",
       "      <td>43.885</td>\n",
       "      <td>43.885</td>\n",
       "      <td>43.885</td>\n",
       "      <td>1248</td>\n",
       "      <td>0</td>\n",
       "    </tr>\n",
       "    <tr>\n",
       "      <th>4</th>\n",
       "      <td>2012-03-13</td>\n",
       "      <td>45.880</td>\n",
       "      <td>45.880</td>\n",
       "      <td>44.555</td>\n",
       "      <td>44.555</td>\n",
       "      <td>227</td>\n",
       "      <td>0</td>\n",
       "    </tr>\n",
       "  </tbody>\n",
       "</table>\n",
       "</div>"
      ],
      "text/plain": [
       "         Date    Open    High     Low   Close  Volume  OpenInt\n",
       "0  2012-03-06  43.011  43.011  43.011  43.011     509        0\n",
       "1  2012-03-07  43.162  43.162  43.162  43.162     113        0\n",
       "2  2012-03-08  43.956  43.956  43.956  43.956     227        0\n",
       "3  2012-03-12  43.885  43.885  43.885  43.885    1248        0\n",
       "4  2012-03-13  45.880  45.880  44.555  44.555     227        0"
      ]
     },
     "execution_count": 7,
     "metadata": {},
     "output_type": "execute_result"
    }
   ],
   "source": [
    "stock_data.head()   "
   ]
  },
  {
   "cell_type": "markdown",
   "metadata": {},
   "source": [
    "**read_csv 함수 파라미터**\n",
    "~~~\n",
    "sep: 각 데이터 값을 구별하기 위한 구분자 (separator) 설정\n",
    "header: header를 무시할 경우, None 설정\n",
    "index_col: index로 사용할 column 설정\n",
    "usecols: 실제로 dataframe에 로딩할 column만 설정\n",
    "~~~"
   ]
  },
  {
   "cell_type": "markdown",
   "metadata": {},
   "source": [
    "~~~\n",
    "해당 data가 ,를 기준으로 separated되지 않는다면 (=csv가 아니라면) \n",
    "stock_data=pd.read_csv('', sep=',')라는 코드로 바꿀 수 있다\n",
    "~~~"
   ]
  },
  {
   "cell_type": "code",
   "execution_count": null,
   "metadata": {},
   "outputs": [],
   "source": []
  },
  {
   "cell_type": "markdown",
   "metadata": {},
   "source": [
    "~~~\n",
    "stock_data=pd.read_csv('',index_col='')    #index를 무엇으로 할 건지를 지정할 수 있다\n",
    "stock_data=pd.read_csv('',usecols=['', '', '', ''])    #index를 포함한 호출하고 싶은 데이터 지정\n",
    "~~~"
   ]
  },
  {
   "cell_type": "code",
   "execution_count": null,
   "metadata": {},
   "outputs": [],
   "source": []
  }
 ],
 "metadata": {
  "kernelspec": {
   "display_name": "Python 3",
   "language": "python",
   "name": "python3"
  },
  "language_info": {
   "codemirror_mode": {
    "name": "ipython",
    "version": 3
   },
   "file_extension": ".py",
   "mimetype": "text/x-python",
   "name": "python",
   "nbconvert_exporter": "python",
   "pygments_lexer": "ipython3",
   "version": "3.7.6"
  }
 },
 "nbformat": 4,
 "nbformat_minor": 4
}
