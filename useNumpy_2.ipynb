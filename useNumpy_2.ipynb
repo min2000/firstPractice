{
 "cells": [
  {
   "cell_type": "code",
   "execution_count": 2,
   "metadata": {},
   "outputs": [],
   "source": [
    "import numpy as np"
   ]
  },
  {
   "cell_type": "code",
   "execution_count": 3,
   "metadata": {},
   "outputs": [
    {
     "data": {
      "text/plain": [
       "array([[0.51885205, 0.06454035, 0.35153297],\n",
       "       [0.72094619, 0.8416218 , 0.01467865]])"
      ]
     },
     "execution_count": 3,
     "metadata": {},
     "output_type": "execute_result"
    }
   ],
   "source": [
    "np.random.rand(2,3)"
   ]
  },
  {
   "cell_type": "code",
   "execution_count": 4,
   "metadata": {},
   "outputs": [
    {
     "data": {
      "text/plain": [
       "array([0.35076731, 0.03860701, 0.45182859])"
      ]
     },
     "execution_count": 4,
     "metadata": {},
     "output_type": "execute_result"
    }
   ],
   "source": [
    "np.random.rand(3)"
   ]
  },
  {
   "cell_type": "code",
   "execution_count": 5,
   "metadata": {},
   "outputs": [
    {
     "data": {
      "text/plain": [
       "array([[[0.37107829, 0.87999541, 0.46531424],\n",
       "        [0.52584686, 0.69808115, 0.41058621],\n",
       "        [0.05403121, 0.79072184, 0.66177525],\n",
       "        [0.85817387, 0.87352256, 0.84078548],\n",
       "        [0.51580624, 0.80947097, 0.43454995]],\n",
       "\n",
       "       [[0.89226331, 0.1200713 , 0.22978893],\n",
       "        [0.92244321, 0.49668239, 0.64679156],\n",
       "        [0.35880311, 0.67679698, 0.90632641],\n",
       "        [0.84073564, 0.29654105, 0.99982849],\n",
       "        [0.59072289, 0.05263308, 0.85272269]],\n",
       "\n",
       "       [[0.23613806, 0.86084847, 0.16113812],\n",
       "        [0.57553539, 0.4653487 , 0.43728633],\n",
       "        [0.24226963, 0.18150768, 0.07917917],\n",
       "        [0.89622162, 0.21967293, 0.78419369],\n",
       "        [0.18155012, 0.16996665, 0.92328175]],\n",
       "\n",
       "       [[0.99482815, 0.72197748, 0.24455451],\n",
       "        [0.04280477, 0.11788304, 0.45971654],\n",
       "        [0.12297299, 0.44815288, 0.54702176],\n",
       "        [0.54612466, 0.64268923, 0.49607761],\n",
       "        [0.8982411 , 0.15815593, 0.4116176 ]]])"
      ]
     },
     "execution_count": 5,
     "metadata": {},
     "output_type": "execute_result"
    }
   ],
   "source": [
    "np.random.rand(4,5,3) "
   ]
  },
  {
   "cell_type": "code",
   "execution_count": 6,
   "metadata": {},
   "outputs": [
    {
     "data": {
      "text/plain": [
       "array([[ 1.44485352, -0.73090929, -1.14353818, -0.40523801],\n",
       "       [-2.5035741 , -0.1172402 ,  0.53383347,  0.43489856],\n",
       "       [-0.19838059, -0.25120695, -0.1487158 ,  0.34204673]])"
      ]
     },
     "execution_count": 6,
     "metadata": {},
     "output_type": "execute_result"
    }
   ],
   "source": [
    "np.random.randn(3,4)"
   ]
  },
  {
   "cell_type": "markdown",
   "metadata": {},
   "source": [
    "# 정수에서 sampling"
   ]
  },
  {
   "cell_type": "code",
   "execution_count": 7,
   "metadata": {},
   "outputs": [
    {
     "data": {
      "text/plain": [
       "array([[68, 53, 63, 65, 12],\n",
       "       [ 5, 89, 39, 88, 40],\n",
       "       [56, 41, 49, 49, 42]])"
      ]
     },
     "execution_count": 7,
     "metadata": {},
     "output_type": "execute_result"
    }
   ],
   "source": [
    "np.random.randint(1,100,size=(3,5))"
   ]
  },
  {
   "cell_type": "code",
   "execution_count": 8,
   "metadata": {},
   "outputs": [
    {
     "data": {
      "text/plain": [
       "array([76, 55, 59])"
      ]
     },
     "execution_count": 8,
     "metadata": {},
     "output_type": "execute_result"
    }
   ],
   "source": [
    "np.random.randint(1,100,size=(3,))"
   ]
  },
  {
   "cell_type": "markdown",
   "metadata": {},
   "source": [
    "# seed 함수\n",
    ">랜덤한 값을 동일하게 다시 생성하고자 할때 사용"
   ]
  },
  {
   "cell_type": "code",
   "execution_count": 9,
   "metadata": {},
   "outputs": [],
   "source": [
    "np.random.seed(150)"
   ]
  },
  {
   "cell_type": "code",
   "execution_count": 10,
   "metadata": {},
   "outputs": [
    {
     "data": {
      "text/plain": [
       "array([[-0.23138325,  0.39061323,  0.35829747,  0.56624448],\n",
       "       [ 0.16623399,  1.91341213,  0.30290274, -0.83082631],\n",
       "       [-0.06014233, -0.09429414, -1.36774478, -0.59251809]])"
      ]
     },
     "execution_count": 10,
     "metadata": {},
     "output_type": "execute_result"
    }
   ],
   "source": [
    "np.random.randn(3,4)  #seed 함수 다음에 이것을 호출하면 이 값이 고정"
   ]
  },
  {
   "cell_type": "markdown",
   "metadata": {},
   "source": [
    "# choice\n",
    "~~~\n",
    "주어진 1차원 ndarray로 부터 랜덤으로 샘플링\n",
    "정수가 주어진 경우 np.array(해당 숫자)로 간주\n",
    "~~~"
   ]
  },
  {
   "cell_type": "code",
   "execution_count": 11,
   "metadata": {},
   "outputs": [
    {
     "data": {
      "text/plain": [
       "array([[ 7, 43, 38, 62],\n",
       "       [23, 45, 93, 74],\n",
       "       [64, 19, 23, 67]])"
      ]
     },
     "execution_count": 11,
     "metadata": {},
     "output_type": "execute_result"
    }
   ],
   "source": [
    "np.random.choice(100,size=(3,4))  #0~99의 수를 3행 4열"
   ]
  },
  {
   "cell_type": "code",
   "execution_count": 16,
   "metadata": {},
   "outputs": [
    {
     "data": {
      "text/plain": [
       "array([[4.9, 1. ],\n",
       "       [2.6, 4.9]])"
      ]
     },
     "execution_count": 16,
     "metadata": {},
     "output_type": "execute_result"
    }
   ],
   "source": [
    "x=np.array([1,2,3,1.5,2.6,4.9])\n",
    "np.random.choice(x,size=[2,2])  #주어진 x 중에서 2,2 갖고 옴"
   ]
  },
  {
   "cell_type": "code",
   "execution_count": 17,
   "metadata": {},
   "outputs": [
    {
     "data": {
      "text/plain": [
       "array([[2., 3.],\n",
       "       [2., 1.]])"
      ]
     },
     "execution_count": 17,
     "metadata": {},
     "output_type": "execute_result"
    }
   ],
   "source": [
    "x=np.array([1,2,3,1.5,2.6,4.9])\n",
    "np.random.choice(x,size=(2,2))"
   ]
  },
  {
   "cell_type": "markdown",
   "metadata": {},
   "source": [
    "**확률 분포에 따른 ndarray 생성**\n",
    "~~~\n",
    "uniform\n",
    "normal\n",
    "...\n",
    "~~~"
   ]
  },
  {
   "cell_type": "code",
   "execution_count": 16,
   "metadata": {},
   "outputs": [
    {
     "data": {
      "text/plain": [
       "array([[1.47538842, 1.08972456, 2.01086286, 1.75250491, 2.1856108 ],\n",
       "       [2.25988375, 1.28520063, 2.8676826 , 2.89275976, 2.20459332],\n",
       "       [1.77553256, 1.72637601, 1.40869055, 1.55353012, 1.49307176],\n",
       "       [1.347216  , 2.93321939, 2.9140252 , 2.19594737, 2.46260151]])"
      ]
     },
     "execution_count": 16,
     "metadata": {},
     "output_type": "execute_result"
    }
   ],
   "source": [
    "np.random.uniform(1.0,3.0,size=(4,5))   #uniform한 분포에서 random으로 sampling"
   ]
  },
  {
   "cell_type": "code",
   "execution_count": 17,
   "metadata": {},
   "outputs": [
    {
     "data": {
      "text/plain": [
       "array([[-0.63913007, -0.33368753, -0.43760186, -1.90579488],\n",
       "       [-1.22901933,  0.79489886, -1.16050814,  0.54605552],\n",
       "       [ 1.16325833,  0.65887702,  0.52368926,  1.32715607]])"
      ]
     },
     "execution_count": 17,
     "metadata": {},
     "output_type": "execute_result"
    }
   ],
   "source": [
    "np.random.normal(size=(3,4))\n",
    "np.random.randn(3,4)  #위의 내용과 동일한 것"
   ]
  },
  {
   "cell_type": "markdown",
   "metadata": {},
   "source": [
    "**unique 함수**\n",
    "~~~\n",
    "중복된 값을 제거하고 중복되지 않은 값의 list 출력\n",
    "~~~"
   ]
  },
  {
   "cell_type": "code",
   "execution_count": 18,
   "metadata": {},
   "outputs": [
    {
     "data": {
      "text/plain": [
       "array([ 2, 11, 31, 34])"
      ]
     },
     "execution_count": 18,
     "metadata": {},
     "output_type": "execute_result"
    }
   ],
   "source": [
    "np.unique([11,11,2,2,34,31])"
   ]
  },
  {
   "cell_type": "code",
   "execution_count": 21,
   "metadata": {},
   "outputs": [],
   "source": [
    "a=np.array(['a','b','b','c','a'])\n",
    "index, count=np.unique(a,return_counts=True)"
   ]
  },
  {
   "cell_type": "code",
   "execution_count": 22,
   "metadata": {},
   "outputs": [
    {
     "data": {
      "text/plain": [
       "array(['a', 'b', 'c'], dtype='<U1')"
      ]
     },
     "execution_count": 22,
     "metadata": {},
     "output_type": "execute_result"
    }
   ],
   "source": [
    "index"
   ]
  },
  {
   "cell_type": "code",
   "execution_count": 23,
   "metadata": {},
   "outputs": [
    {
     "data": {
      "text/plain": [
       "array([2, 2, 1], dtype=int64)"
      ]
     },
     "execution_count": 23,
     "metadata": {},
     "output_type": "execute_result"
    }
   ],
   "source": [
    "count"
   ]
  },
  {
   "cell_type": "code",
   "execution_count": null,
   "metadata": {},
   "outputs": [],
   "source": []
  }
 ],
 "metadata": {
  "kernelspec": {
   "display_name": "Python 3",
   "language": "python",
   "name": "python3"
  },
  "language_info": {
   "codemirror_mode": {
    "name": "ipython",
    "version": 3
   },
   "file_extension": ".py",
   "mimetype": "text/x-python",
   "name": "python",
   "nbconvert_exporter": "python",
   "pygments_lexer": "ipython3",
   "version": "3.7.6"
  }
 },
 "nbformat": 4,
 "nbformat_minor": 4
}
